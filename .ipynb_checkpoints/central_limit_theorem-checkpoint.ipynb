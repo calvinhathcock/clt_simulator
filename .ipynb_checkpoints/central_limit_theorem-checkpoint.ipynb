{
 "cells": [
  {
   "cell_type": "code",
   "execution_count": 1,
   "id": "33ed0f61-6637-4f44-b7c2-affb73d70515",
   "metadata": {
    "id": "33ed0f61-6637-4f44-b7c2-affb73d70515"
   },
   "outputs": [],
   "source": [
    "import random as rand\n",
    "import pandas as pd\n",
    "import matplotlib.pyplot as plt\n",
    "import numpy as np\n",
    "from functions import *"
   ]
  },
  {
   "cell_type": "code",
   "execution_count": 2,
   "id": "4cde2865-9a6f-46bc-b60b-6d5cc5622218",
   "metadata": {
    "id": "4cde2865-9a6f-46bc-b60b-6d5cc5622218"
   },
   "outputs": [],
   "source": [
    "#Generate initial data (discrete cases)\n",
    "samples = np.array([10, 50, 100, 1000])\n",
    "size = np.array([5, 10, 30, 50])\n",
    "populations = np.array([100, 1000, 10000])\n",
    "#range of possible numbers\n",
    "minimum = 0\n",
    "maximum = 100000\n",
    "population = generate_population(minimum, maximum, 1000)"
   ]
  },
  {
   "cell_type": "code",
   "execution_count": 3,
   "id": "be3aba25-95a3-4aa9-8454-672019304b70",
   "metadata": {
    "id": "be3aba25-95a3-4aa9-8454-672019304b70",
    "outputId": "689c520a-2c9c-488e-88d2-feadb4498116"
   },
   "outputs": [
    {
     "data": {
      "text/plain": [
       "50232.931"
      ]
     },
     "execution_count": 3,
     "metadata": {},
     "output_type": "execute_result"
    }
   ],
   "source": [
    "np.mean(population)"
   ]
  },
  {
   "cell_type": "code",
   "execution_count": 4,
   "id": "a1c88b93-df40-4fa6-8b88-6565e1fa19d6",
   "metadata": {},
   "outputs": [
    {
     "data": {
      "text/plain": [
       "28495.165576782303"
      ]
     },
     "execution_count": 4,
     "metadata": {},
     "output_type": "execute_result"
    }
   ],
   "source": [
    "np.std(population)"
   ]
  },
  {
   "cell_type": "code",
   "execution_count": 5,
   "id": "fc69231f-8dc8-4630-975e-1f65e1f0653c",
   "metadata": {},
   "outputs": [
    {
     "data": {
      "text/plain": [
       "(array([ 87., 112.,  96., 102.,  96., 100., 119.,  96.,  95.,  97.]),\n",
       " array([  120. , 10103.7, 20087.4, 30071.1, 40054.8, 50038.5, 60022.2,\n",
       "        70005.9, 79989.6, 89973.3, 99957. ]),\n",
       " <BarContainer object of 10 artists>)"
      ]
     },
     "execution_count": 5,
     "metadata": {},
     "output_type": "execute_result"
    },
    {
     "data": {
      "image/png": "[encoded data removed]",
      "text/plain": [
       "<Figure size 432x288 with 1 Axes>"
      ]
     },
     "metadata": {
      "needs_background": "light"
     },
     "output_type": "display_data"
    }
   ],
   "source": [
    "plt.hist(population)"
   ]
  },
  {
   "cell_type": "code",
   "execution_count": 6,
   "id": "f2db763b-60d5-48ca-87a4-acf39029bcdb",
   "metadata": {
    "id": "f2db763b-60d5-48ca-87a4-acf39029bcdb",
    "tags": []
   },
   "outputs": [],
   "source": [
    "samples = get_random_samples(700,30,list(population))\n",
    "sample_means = get_means(samples)"
   ]
  },
  {
   "cell_type": "code",
   "execution_count": 7,
   "id": "b3b3d633-dd8b-4a0a-a9e9-8d3b13bcd215",
   "metadata": {},
   "outputs": [
    {
     "data": {
      "text/plain": [
       "(array([  7.,  23.,  48., 119., 146., 165., 109.,  59.,  20.,   4.]),\n",
       " array([34316.7 , 37470.78, 40624.86, 43778.94, 46933.02, 50087.1 ,\n",
       "        53241.18, 56395.26, 59549.34, 62703.42, 65857.5 ]),\n",
       " <BarContainer object of 10 artists>)"
      ]
     },
     "execution_count": 7,
     "metadata": {},
     "output_type": "execute_result"
    },
    {
     "data": {
      "image/png": "[encoded data removed]",
      "text/plain": [
       "<Figure size 432x288 with 1 Axes>"
      ]
     },
     "metadata": {
      "needs_background": "light"
     },
     "output_type": "display_data"
    }
   ],
   "source": [
    "plt.hist(sample_means)"
   ]
  },
  {
   "cell_type": "markdown",
   "id": "74167147-5c6c-4b0d-8922-27fbd132c80d",
   "metadata": {},
   "source": [
    "TODO\n",
    "    \n",
    "    plot changes in distribution as population, number of samples, and size of samples changes\n",
    "    \n",
    "    interactive plot would be ideal, plotly dashboard maybe? \n",
    " "
   ]
  },
  {
   "cell_type": "code",
   "execution_count": null,
   "id": "382f126d-a209-4bd7-b535-fa6c8fbcad67",
   "metadata": {},
   "outputs": [],
   "source": []
  }
 ],
 "metadata": {
  "colab": {
   "name": "central-limit-theorem.ipynb",
   "provenance": []
  },
  "kernelspec": {
   "display_name": "Python 3 (ipykernel)",
   "language": "python",
   "name": "python3"
  },
  "language_info": {
   "codemirror_mode": {
    "name": "ipython",
    "version": 3
   },
   "file_extension": ".py",
   "mimetype": "text/x-python",
   "name": "python",
   "nbconvert_exporter": "python",
   "pygments_lexer": "ipython3",
   "version": "3.9.7"
  }
 },
 "nbformat": 4,
 "nbformat_minor": 5
}
