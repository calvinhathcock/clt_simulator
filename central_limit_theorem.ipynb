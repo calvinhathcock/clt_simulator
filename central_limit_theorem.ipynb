{
 "cells": [
  {
   "cell_type": "code",
   "execution_count": 1,
   "id": "33ed0f61-6637-4f44-b7c2-affb73d70515",
   "metadata": {
    "id": "33ed0f61-6637-4f44-b7c2-affb73d70515"
   },
   "outputs": [],
   "source": [
    "import random as rand\n",
    "import pandas as pd\n",
    "import matplotlib.pyplot as plt\n",
    "import numpy as np\n",
    "from functions import *"
   ]
  },
  {
   "cell_type": "code",
   "execution_count": 2,
   "id": "4cde2865-9a6f-46bc-b60b-6d5cc5622218",
   "metadata": {
    "id": "4cde2865-9a6f-46bc-b60b-6d5cc5622218"
   },
   "outputs": [],
   "source": [
    "#Generate initial data (discrete cases)\n",
    "samples = [10, 50, 100, 1000]\n",
    "size = [5, 10, 30, 50]\n",
    "populations = [100, 1000, 10000]\n",
    "#range of possible numbers\n",
    "minimum = 0\n",
    "maximum = 100000\n",
    "\n",
    "#count of random numbers to generate\n",
    "population = []\n",
    "\n",
    "for i in range(1000):\n",
    "    population.append(rand.randrange(minimum,maximum))\n",
    "    "
   ]
  },
  {
   "cell_type": "code",
   "execution_count": 3,
   "id": "be3aba25-95a3-4aa9-8454-672019304b70",
   "metadata": {
    "id": "be3aba25-95a3-4aa9-8454-672019304b70",
    "outputId": "689c520a-2c9c-488e-88d2-feadb4498116"
   },
   "outputs": [
    {
     "data": {
      "text/plain": [
       "50750.174"
      ]
     },
     "execution_count": 3,
     "metadata": {},
     "output_type": "execute_result"
    }
   ],
   "source": [
    "get_mean(population)"
   ]
  },
  {
   "cell_type": "code",
   "execution_count": 4,
   "id": "a8d81a39-4e9d-4c56-9588-e725df68221e",
   "metadata": {},
   "outputs": [
    {
     "data": {
      "text/plain": [
       "29040.989362515258"
      ]
     },
     "execution_count": 4,
     "metadata": {},
     "output_type": "execute_result"
    }
   ],
   "source": [
    "get_sd(population)"
   ]
  },
  {
   "cell_type": "code",
   "execution_count": 5,
   "id": "fc69231f-8dc8-4630-975e-1f65e1f0653c",
   "metadata": {},
   "outputs": [
    {
     "data": {
      "text/plain": [
       "(array([ 98.,  96., 109.,  81., 100., 102., 100., 107., 111.,  96.]),\n",
       " array([1.80000e+01, 1.00079e+04, 1.99978e+04, 2.99877e+04, 3.99776e+04,\n",
       "        4.99675e+04, 5.99574e+04, 6.99473e+04, 7.99372e+04, 8.99271e+04,\n",
       "        9.99170e+04]),\n",
       " <BarContainer object of 10 artists>)"
      ]
     },
     "execution_count": 5,
     "metadata": {},
     "output_type": "execute_result"
    },
    {
     "data": {
      "image/png": "[encoded data removed]",
      "text/plain": [
       "<Figure size 432x288 with 1 Axes>"
      ]
     },
     "metadata": {
      "needs_background": "light"
     },
     "output_type": "display_data"
    }
   ],
   "source": [
    "plt.hist(population)"
   ]
  },
  {
   "cell_type": "code",
   "execution_count": 17,
   "id": "f2db763b-60d5-48ca-87a4-acf39029bcdb",
   "metadata": {
    "id": "f2db763b-60d5-48ca-87a4-acf39029bcdb",
    "tags": []
   },
   "outputs": [],
   "source": [
    "test = get_random_samples(700,30,population)"
   ]
  },
  {
   "cell_type": "code",
   "execution_count": 18,
   "id": "8b056424-4cf0-424a-b9b5-e564726368a2",
   "metadata": {},
   "outputs": [],
   "source": [
    "means = []\n",
    "for t in test:\n",
    "    means.append(get_mean(t))"
   ]
  },
  {
   "cell_type": "code",
   "execution_count": 19,
   "id": "b3b3d633-dd8b-4a0a-a9e9-8d3b13bcd215",
   "metadata": {},
   "outputs": [
    {
     "data": {
      "text/plain": [
       "(array([ 10.,  22.,  68., 106., 134., 156., 125.,  56.,  19.,   4.]),\n",
       " array([34168.93333333, 37204.63      , 40240.32666667, 43276.02333333,\n",
       "        46311.72      , 49347.41666667, 52383.11333333, 55418.81      ,\n",
       "        58454.50666667, 61490.20333333, 64525.9       ]),\n",
       " <BarContainer object of 10 artists>)"
      ]
     },
     "execution_count": 19,
     "metadata": {},
     "output_type": "execute_result"
    },
    {
     "data": {
      "image/png": "[encoded data removed]",
      "text/plain": [
       "<Figure size 432x288 with 1 Axes>"
      ]
     },
     "metadata": {
      "needs_background": "light"
     },
     "output_type": "display_data"
    }
   ],
   "source": [
    "plt.hist(means)"
   ]
  },
  {
   "cell_type": "markdown",
   "id": "74167147-5c6c-4b0d-8922-27fbd132c80d",
   "metadata": {},
   "source": [
    "TODO\n",
    "    plot changes in distribution as population, number of samples, and size of samples changes\n",
    " "
   ]
  },
  {
   "cell_type": "code",
   "execution_count": null,
   "id": "382f126d-a209-4bd7-b535-fa6c8fbcad67",
   "metadata": {},
   "outputs": [],
   "source": []
  }
 ],
 "metadata": {
  "colab": {
   "name": "central-limit-theorem.ipynb",
   "provenance": []
  },
  "kernelspec": {
   "display_name": "Python 3 (ipykernel)",
   "language": "python",
   "name": "python3"
  },
  "language_info": {
   "codemirror_mode": {
    "name": "ipython",
    "version": 3
   },
   "file_extension": ".py",
   "mimetype": "text/x-python",
   "name": "python",
   "nbconvert_exporter": "python",
   "pygments_lexer": "ipython3",
   "version": "3.9.7"
  }
 },
 "nbformat": 4,
 "nbformat_minor": 5
}
